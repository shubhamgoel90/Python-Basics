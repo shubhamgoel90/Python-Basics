{
 "cells": [
  {
   "cell_type": "markdown",
   "metadata": {},
   "source": [
    "## OOPS in A Python\n",
    "A minimalistic Python Class\n",
    "\n"
   ]
  },
  {
   "cell_type": "code",
   "execution_count": 59,
   "metadata": {},
   "outputs": [
    {
     "name": "stdout",
     "output_type": "stream",
     "text": [
      "<class '__main__.Person'>\n"
     ]
    }
   ],
   "source": [
    "class Person:\n",
    "    pass\n",
    "\n",
    "p = Person()\n",
    "print(type(p))"
   ]
  },
  {
   "cell_type": "markdown",
   "metadata": {},
   "source": [
    "### Let's us define one Person Class"
   ]
  },
  {
   "cell_type": "code",
   "execution_count": 63,
   "metadata": {},
   "outputs": [
    {
     "name": "stdout",
     "output_type": "stream",
     "text": [
      "Hello World!\n",
      "My Name is  Prateek\n",
      "I am from  Coding Blocks\n",
      "I am  Indian\n",
      "In Secret Method of  Prateek\n",
      "My Name is  Arnav\n",
      "I am from  Micromax\n",
      "I am  Indian\n",
      "In Secret Method of  Arnav\n"
     ]
    }
   ],
   "source": [
    "class Person:\n",
    "    #Class Variable, common for all objects of the same class\n",
    "    nationality = \"Indian\"\n",
    "    \n",
    "    def __init__(self,pname,clg):\n",
    "        self.name = pname\n",
    "        self.college = clg\n",
    "    \n",
    "    def sayHi(self,name):\n",
    "        print(\"Hello \"+name)\n",
    "        \n",
    "    def __secretMethod(self):\n",
    "        print(\"In Secret Method of \",self.name)\n",
    "    \n",
    "    def introduce(self):\n",
    "        print(\"My Name is \",self.name)\n",
    "        print(\"I am from \",self.college)\n",
    "        print(\"I am \",self.nationality)\n",
    "        self.__secretMethod()\n",
    "        \n",
    "        \n",
    "p = Person(\"Prateek\",\"Coding Blocks\")\n",
    "p.sayHi(\"World!\")\n",
    "p.introduce()\n",
    "#p.__secretMethod()\n",
    "\n",
    "p2 = Person(\"Arnav\",\"Micromax\")\n",
    "p2.introduce()\n",
    "\n"
   ]
  },
  {
   "cell_type": "markdown",
   "metadata": {},
   "source": [
    "### Instance Variables vs Class Variables"
   ]
  },
  {
   "cell_type": "code",
   "execution_count": 64,
   "metadata": {},
   "outputs": [
    {
     "name": "stdout",
     "output_type": "stream",
     "text": [
      "German Shepherd\n",
      "['HighJump', 'Roll Over']\n",
      "Doing Secret Activity  German Shepherd\n",
      "Golden Retriever\n",
      "['LowJump', 'Roll Upside Down']\n",
      "Doing Secret Activity  Golden Retriever\n"
     ]
    }
   ],
   "source": [
    "class Dog:\n",
    "    \n",
    "    color = \"Brown\"\n",
    "    #Common for all data member of the class \n",
    "  \n",
    "    def __init__(self,breed):\n",
    "        \"\"\"This method accepts the breed of the dog and initialsies it\"\"\"\n",
    "        self.activities = []\n",
    "        self.breed = breed\n",
    "    \n",
    "    def addActivity(self,act):\n",
    "        self.activities.append(act)\n",
    "        \n",
    "    def __secretActivity(self):\n",
    "        print(\"Doing Secret Activity \",self.breed)\n",
    "        \n",
    "    def doActivity(self):\n",
    "        \"\"\"This is reg dog activities\"\"\"\n",
    "        print(self.breed)\n",
    "        print(self.activities)\n",
    "        self.__secretActivity()\n",
    "        \n",
    "        \n",
    "d1 = Dog(\"German Shepherd\")\n",
    "d2 = Dog(\"Golden Retriever\")\n",
    "\n",
    "d1.addActivity(\"HighJump\")\n",
    "d1.addActivity(\"Roll Over\")\n",
    "#d1.__secretActivity()\n",
    "\n",
    "d2.addActivity(\"LowJump\")\n",
    "d2.addActivity(\"Roll Upside Down\")\n",
    "#d2.__secretActivity()\n",
    "d1.doActivity()\n",
    "d2.doActivity()\n",
    "\n",
    "d2.doActivity?\n",
    "\n"
   ]
  },
  {
   "cell_type": "markdown",
   "metadata": {},
   "source": [
    "### Public vs Private method"
   ]
  },
  {
   "cell_type": "markdown",
   "metadata": {},
   "source": [
    "### Inheritance in Python"
   ]
  },
  {
   "cell_type": "code",
   "execution_count": 58,
   "metadata": {},
   "outputs": [
    {
     "name": "stdout",
     "output_type": "stream",
     "text": [
      "Init School Member: Mr.Alpha \n",
      "Init Teacher : Mr.Alpha\n",
      "Name :Mr.Alpha 30\n",
      "Salary : 45000\n",
      "Init School Member: Xyz \n",
      "Init Student Xyz\n",
      "Name :Xyz 20\n",
      "Marks 90\n"
     ]
    }
   ],
   "source": [
    "class SchoolMember:\n",
    "    def __init__(self,name,age):\n",
    "        self.name = name\n",
    "        self.age = age\n",
    "        print(\"Init School Member: %s \"%self.name)\n",
    "        \n",
    "    def introduce(self):\n",
    "        print(\"Name :%s %d\"%(self.name,self.age))\n",
    "        \n",
    "\n",
    "class Teacher(SchoolMember):\n",
    "       \n",
    "        def __init__(self,name,age,salary):\n",
    "            SchoolMember.__init__(self,name,age)\n",
    "            self.salary = salary\n",
    "            print(\"Init Teacher : %s\"%self.name)\n",
    "\n",
    "        def introduce(self):\n",
    "            SchoolMember.introduce(self)\n",
    "            print(\"Salary : %d\"%(self.salary))\n",
    "            \n",
    "class Student(SchoolMember):\n",
    "    '''Represents a school student'''\n",
    "    def __init__(self,name,age,marks):\n",
    "        SchoolMember.__init__(self,name,age)\n",
    "        self.marks = marks\n",
    "        print(\"Init Student %s\"%(self.name))\n",
    "        \n",
    "    def introduce(self):\n",
    "        SchoolMember.introduce(self)\n",
    "        print(\"Marks %d\"%(self.marks))\n",
    "    \n",
    "\n",
    "t = Teacher(\"Mr.Alpha\",30,45000)\n",
    "t.introduce()\n",
    "\n",
    "s = Student(\"Xyz\",20,90)\n",
    "s.introduce()\n"
   ]
  }
 ],
 "metadata": {
  "kernelspec": {
   "display_name": "Python 3",
   "language": "python",
   "name": "python3"
  },
  "language_info": {
   "codemirror_mode": {
    "name": "ipython",
    "version": 3
   },
   "file_extension": ".py",
   "mimetype": "text/x-python",
   "name": "python",
   "nbconvert_exporter": "python",
   "pygments_lexer": "ipython3",
   "version": "3.6.5"
  }
 },
 "nbformat": 4,
 "nbformat_minor": 2
}
